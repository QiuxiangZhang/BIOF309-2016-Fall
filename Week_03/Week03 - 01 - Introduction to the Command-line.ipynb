{
 "cells": [
  {
   "cell_type": "markdown",
   "metadata": {},
   "source": [
    "# Introduction to the Command-line Interface (CLI)\n",
    "\n",
    "## aka Introduction to Linux Shell"
   ]
  },
  {
   "cell_type": "markdown",
   "metadata": {},
   "source": [
    "---"
   ]
  },
  {
   "cell_type": "markdown",
   "metadata": {},
   "source": [
    "### Getting into the Terminal or Command Prompt\n",
    "\n",
    "For Mac users:\n",
    "- Type \"Command + Spacebar\" or click on the Spotlight magnifying glass in the upper right-hand corner. \n",
    "- Type \"Terminal\"\n",
    "- Hit \"Return\""
   ]
  },
  {
   "cell_type": "markdown",
   "metadata": {},
   "source": [
    "You should see something like this:\n",
    "![Mac Terminal](https://www.imore.com/sites/imore.com/files/styles/larger/public/field/image/2016/03/13-add-spacers-terminal.jpg?itok=tAISaSDn)"
   ]
  },
  {
   "cell_type": "markdown",
   "metadata": {},
   "source": [
    "For Windows users:\n",
    "- In the search bar in the lower left-hand corner, type \"cmd\"\n",
    "- Hit \"Enter\""
   ]
  },
  {
   "cell_type": "markdown",
   "metadata": {},
   "source": [
    "You should see somethign like this:\n",
    "![Windows Command Prompt](http://cdn.technorms.com/assets/1starterimage19.png)"
   ]
  },
  {
   "cell_type": "markdown",
   "metadata": {},
   "source": [
    "## Finding out where you are:\n",
    "\n",
    "Displays your location in the file system\n",
    "\n",
    "    pwd     # pwd (Linux)\n",
    "\tchdir   # chdir (Windows)"
   ]
  },
  {
   "cell_type": "code",
   "execution_count": 4,
   "metadata": {
    "collapsed": false
   },
   "outputs": [
    {
     "name": "stdout",
     "output_type": "stream",
     "text": [
      "/Users/squiresrb/Documents/version_control/BIOF309-2016-Fall/Week_03\r\n"
     ]
    }
   ],
   "source": [
    "# To run these commands in the Jupyter Notebook, preceed with a exclamation mark (!)\n",
    "\n",
    "!pwd"
   ]
  },
  {
   "cell_type": "markdown",
   "metadata": {},
   "source": [
    "Changes directories with a specified path (absolute path)\n",
    "\n",
    "    cd pathname    # cd /directory/directory\n",
    "\tcd pathname    # cd C:/directory/directory"
   ]
  },
  {
   "cell_type": "code",
   "execution_count": null,
   "metadata": {
    "collapsed": true
   },
   "outputs": [],
   "source": []
  },
  {
   "cell_type": "markdown",
   "metadata": {},
   "source": [
    "Changes directories with a relative path\n",
    "\n",
    "    cd ..   # cd ..\n",
    "\tcd..    # cd..\n",
    "    "
   ]
  },
  {
   "cell_type": "code",
   "execution_count": null,
   "metadata": {
    "collapsed": true
   },
   "outputs": [],
   "source": []
  },
  {
   "cell_type": "markdown",
   "metadata": {},
   "source": [
    "Creates a directory\n",
    "\n",
    "    mkdir   # mkdir directory\n",
    "\tmkdir   # mkdir directory"
   ]
  },
  {
   "cell_type": "code",
   "execution_count": null,
   "metadata": {
    "collapsed": true
   },
   "outputs": [],
   "source": []
  },
  {
   "cell_type": "markdown",
   "metadata": {},
   "source": [
    "## Absolute Paths versus Relative Paths\n",
    "\n",
    "Absolute paths start at the root directory in Linux and at the Hard drive Letter in Windows:\n",
    "\n",
    "    /Users/username/Document/BIOF309/file.txt\n",
    "\n",
    "    C:/Users/username/Documents/BIOF309/file.txt\n",
    "    \n",
    "Relative paths are \"relative\" to the programs currentl location.\n",
    "\n",
    "A file in the same directory can be prefaced with \"./\" in linux but Jupyter Notebook does not require it\n",
    "\n",
    "    .\\file.txt    # Current directory"
   ]
  },
  {
   "cell_type": "markdown",
   "metadata": {},
   "source": [
    "## Working with files"
   ]
  },
  {
   "cell_type": "markdown",
   "metadata": {},
   "source": [
    "Lists files\n",
    "\n",
    "    ls     # ls\n",
    "    dir    # dir"
   ]
  },
  {
   "cell_type": "code",
   "execution_count": null,
   "metadata": {
    "collapsed": true
   },
   "outputs": [],
   "source": []
  },
  {
   "cell_type": "markdown",
   "metadata": {},
   "source": [
    "Copies files\n",
    "\n",
    "    cp     # cp thisfile.txt /home/thisdirectory\n",
    "    copy   # copy thisfile.txt C:/Users/thisdirectory"
   ]
  },
  {
   "cell_type": "code",
   "execution_count": null,
   "metadata": {
    "collapsed": true
   },
   "outputs": [],
   "source": []
  },
  {
   "cell_type": "markdown",
   "metadata": {},
   "source": [
    "Moves files\n",
    "\n",
    "    mv    # mv thisfile.txt /home/thisdirectory\n",
    "\tmove  # move thisfile.txt C:/Users/thisdirectory"
   ]
  },
  {
   "cell_type": "code",
   "execution_count": null,
   "metadata": {
    "collapsed": true
   },
   "outputs": [],
   "source": []
  },
  {
   "cell_type": "markdown",
   "metadata": {},
   "source": [
    "Deletes files\n",
    "\n",
    "    rm    # rm thisfile.txt\n",
    "\tdel   # rm thisfile.txt"
   ]
  },
  {
   "cell_type": "code",
   "execution_count": null,
   "metadata": {
    "collapsed": true
   },
   "outputs": [],
   "source": []
  },
  {
   "cell_type": "markdown",
   "metadata": {},
   "source": [
    "Compares the contents of files\n",
    "\n",
    "    diff  # diff file1 file2\n",
    "\tfc    # diff file1 file2"
   ]
  },
  {
   "cell_type": "code",
   "execution_count": null,
   "metadata": {
    "collapsed": true
   },
   "outputs": [],
   "source": []
  },
  {
   "cell_type": "markdown",
   "metadata": {},
   "source": [
    "Finds a string of text in a file\n",
    "\n",
    "    grep    # grep word or phrase thisfile.txt\n",
    "\tfind    # grep word or phrase thisfile.txt"
   ]
  },
  {
   "cell_type": "code",
   "execution_count": null,
   "metadata": {
    "collapsed": true
   },
   "outputs": [],
   "source": []
  },
  {
   "cell_type": "markdown",
   "metadata": {},
   "source": [
    "Views contents of a file\n",
    "\n",
    "    less    # less thisfile.txt\n",
    "\tmore    # less thisfile.txt"
   ]
  },
  {
   "cell_type": "code",
   "execution_count": null,
   "metadata": {
    "collapsed": true
   },
   "outputs": [],
   "source": []
  },
  {
   "cell_type": "markdown",
   "metadata": {},
   "source": [
    "Renames a file\n",
    "\n",
    "    mv     # mv thisfile.txt thatfile.txt\n",
    "\tren    # ren thisfile.txt thatfile.txt"
   ]
  },
  {
   "cell_type": "code",
   "execution_count": null,
   "metadata": {
    "collapsed": true
   },
   "outputs": [],
   "source": []
  }
 ],
 "metadata": {
  "anaconda-cloud": {},
  "kernelspec": {
   "display_name": "Python [Root]",
   "language": "python",
   "name": "Python [Root]"
  },
  "language_info": {
   "codemirror_mode": {
    "name": "ipython",
    "version": 3
   },
   "file_extension": ".py",
   "mimetype": "text/x-python",
   "name": "python",
   "nbconvert_exporter": "python",
   "pygments_lexer": "ipython3",
   "version": "3.5.2"
  }
 },
 "nbformat": 4,
 "nbformat_minor": 0
}
