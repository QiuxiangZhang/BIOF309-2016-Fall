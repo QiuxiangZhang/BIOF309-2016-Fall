{
 "cells": [
  {
   "cell_type": "markdown",
   "metadata": {},
   "source": [
    "# Week 2 - Review of Week 1"
   ]
  },
  {
   "cell_type": "markdown",
   "metadata": {},
   "source": [
    "---"
   ]
  },
  {
   "cell_type": "markdown",
   "metadata": {},
   "source": [
    "### Let's review what we learned last week:\n",
    "1. Installed python\n",
    "1. Three ways to run a python program (for now)\n",
    "1. Writing our first program"
   ]
  },
  {
   "cell_type": "markdown",
   "metadata": {},
   "source": [
    "---"
   ]
  },
  {
   "cell_type": "markdown",
   "metadata": {},
   "source": [
    "# Github: https://github.com/biof-309-python/BIOF309-2016-Fall\n",
    "\n",
    "# To download Pineapple (Mac only): https://nwhitehead.github.io/pineapple/"
   ]
  },
  {
   "cell_type": "markdown",
   "metadata": {},
   "source": [
    "### 1. Installed python:\n",
    "    \n",
    "We downloaded the Continuum Analytics Anaconda distribution for __Python 3.5__ and installed it. The installer can be found here:\n",
    "    \n",
    "    https://www.continuum.io/downloads\n",
    "    \n",
    "There were some problems:\n",
    "\n",
    "1. Unable to launch Juypter Notebook from Navigator? Try deleting the Jupyter Notebook from Navigator and re-installing it.\n",
    "1. Not able to launch Navigator? Try deleting Anaconda folder and reinstalling.\n",
    "1. Type \"jupyter notebook\" in the Terminal or command prompt.\n",
    "1. Still not able to launch Juypter Notebook? Cannot find jupyter? try launching by running: \n",
    "        /Users/your_user_name/anaconda/bin/jupyter notebook"
   ]
  },
  {
   "cell_type": "markdown",
   "metadata": {},
   "source": [
    "### 2. Three ways to run a python program (for now)\n",
    "\n",
    "We could start python by:\n",
    "\n",
    "1. From the command-line\n",
    "    1. Openning a Terminal (Mac, Linux) or teh Command Prompt (Windows)\n",
    "    1. Typing \"python\"\n",
    "    1. We can confirm this by observing the three greater-than signs together \">>>\"\n",
    "    1. Remember to exit we had to use: \n",
    "\n",
    "        exit()\n",
    "\n",
    "2. Use a text file\n",
    "\n",
    "    1. Open a text editor (Mac: Textedit, TextWrangler; Win: Notepad; __NOTE: Not Microsoft Word__)\n",
    "    1. Type our python _statement_ in: \n",
    "            print(\"Hello world\")\n",
    "    1. Save the file as \"hello_world.py\"\n",
    "    1. Run the python script from the command line using:\n",
    "            python hello_world.py\n",
    "\n",
    "3. Run your python code as a _code_ cell within a Jupyter Notebook. d\n",
    "    1. Open Jupyter Notebook\n",
    "    1. Create a new notebook with a python 3 kernel (should be \"Python [Root]\" if you installed the python 3.5 version of anaconda installer.\n",
    "    1. Type you code in a new _code_ cell\n",
    "    1. Run cell"
   ]
  },
  {
   "cell_type": "markdown",
   "metadata": {},
   "source": [
    "### 3. Writing our first program\n",
    "\n",
    "Lets look at the homework"
   ]
  },
  {
   "cell_type": "code",
   "execution_count": null,
   "metadata": {
    "collapsed": true
   },
   "outputs": [],
   "source": []
  }
 ],
 "metadata": {
  "anaconda-cloud": {},
  "kernelspec": {
   "display_name": "Python [Root]",
   "language": "python",
   "name": "Python [Root]"
  },
  "language_info": {
   "codemirror_mode": {
    "name": "ipython",
    "version": 3
   },
   "file_extension": ".py",
   "mimetype": "text/x-python",
   "name": "python",
   "nbconvert_exporter": "python",
   "pygments_lexer": "ipython3",
   "version": "3.5.2"
  }
 },
 "nbformat": 4,
 "nbformat_minor": 0
}
