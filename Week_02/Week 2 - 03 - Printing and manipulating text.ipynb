{
 "cells": [
  {
   "cell_type": "markdown",
   "metadata": {},
   "source": [
    "# Week 2 - Printing and manipulating text"
   ]
  },
  {
   "cell_type": "markdown",
   "metadata": {},
   "source": [
    "We started the first week by printing _Hello world_  (you can try it below). This taught us a number of things.  It taught us about strings, functions, statements. As we know, as biologists one of the primary entities that we deal with is string in the form of sequences, wether they be DNA, RNA, or amino acid sequences."
   ]
  },
  {
   "cell_type": "code",
   "execution_count": null,
   "metadata": {
    "collapsed": false
   },
   "outputs": [],
   "source": [
    "print(\"Hello world\")"
   ]
  },
  {
   "cell_type": "markdown",
   "metadata": {},
   "source": [
    "To python, a sequences in a __string__. A string of what? A __string of characters__. A string is an ummutable (unchangeable) sequence of characters arranged in a specific order. What is a character? A character is letter, number, or punctuation mark...anything that can be represented on a keyboard. \n",
    "\n",
    "Thus _Hello world_ is the string that we used in _print_ function of our _Hello world_ program. \n",
    "\n",
    "    \"Hello world\"\n",
    "\n",
    "What did we do with that string?\n",
    "\n",
    "We \"printed\" or wrote the string to the terminal. The python command _print_ is a function, a collection of python source code that has been written to perform a particular action. We call or use a function by typing its name, followed by an open and closed parenthesis. __Functions always have parentheses!__ In the case of the _print_ function you must also include a parameter or string to print. "
   ]
  },
  {
   "cell_type": "markdown",
   "metadata": {},
   "source": [
    "### Getting help\n",
    "\n",
    "__NOTE__: Would you like to get more inforamtion on _print_? Type\n",
    "\n",
    "    print?\n",
    "    or\n",
    "    help(print)"
   ]
  },
  {
   "cell_type": "markdown",
   "metadata": {},
   "source": [
    "#### Single or double quotes?"
   ]
  },
  {
   "cell_type": "markdown",
   "metadata": {},
   "source": [
    "As we can see from the code below, python does not care if we use single or double quotes around our text."
   ]
  },
  {
   "cell_type": "code",
   "execution_count": null,
   "metadata": {
    "collapsed": false
   },
   "outputs": [],
   "source": [
    "\"Hello world\" == 'Hello world'"
   ]
  },
  {
   "cell_type": "code",
   "execution_count": null,
   "metadata": {
    "collapsed": false
   },
   "outputs": [],
   "source": [
    "print(\"Hello world\")"
   ]
  },
  {
   "cell_type": "code",
   "execution_count": null,
   "metadata": {
    "collapsed": false
   },
   "outputs": [],
   "source": [
    "print('Hello world')"
   ]
  },
  {
   "cell_type": "code",
   "execution_count": null,
   "metadata": {
    "collapsed": false
   },
   "outputs": [],
   "source": [
    "print(\"Hello world') # What happen when you try to run this cell?"
   ]
  },
  {
   "cell_type": "markdown",
   "metadata": {},
   "source": [
    "### Comments, or what is that text at the end of the statement above?\n",
    "\n",
    "Comments are a way to include text in your code and is ignored by the compiler. Comments are very helpful to understand your code without interfeering with its execution or logic.\n",
    "\n",
    "Comments are preceeded by a pound sign \"#\" and a space.\n",
    "\n",
    "    # This is a comment"
   ]
  },
  {
   "cell_type": "markdown",
   "metadata": {},
   "source": [
    "__Advanced__:Docstrings"
   ]
  },
  {
   "cell_type": "markdown",
   "metadata": {},
   "source": [
    "### Splitting a statement over two lines\n",
    "\n",
    "Sometimes, in fact often, a python statement will be longer then one line on your screen. Good python practice declares that your programming line should be no longer than 80 characters. If a line of code is longer then 80 characters, you can wrap the python statement and add a backslash \"\\\" to each line that is continued.\n",
    "\n",
    "    print(\"This is a long python statemnt that nees to be wrapped.\")\n",
    "    \n",
    "    print(\"This is a long python statemnt \\\n",
    "    that nees to be wrapped.\")\n",
    "    \n",
    "Try typing each or something similiar below to test it out."
   ]
  },
  {
   "cell_type": "markdown",
   "metadata": {},
   "source": [
    "### Special characters\n",
    "\n",
    "The backslash, also called the escape character, enables us to use invisibile or special characters in our python statements."
   ]
  },
  {
   "cell_type": "markdown",
   "metadata": {},
   "source": [
    "Print a new line character and python will go to the next line. Like this:\n",
    "    \n",
    "    print(\"Hello world\\n!\")\n",
    "\n",
    "To see what special characters are availalble see this [tutorial page](http://www.tutorialspoint.com/python/python_strings.htm).\n",
    "\n",
    "What happens when you try it below?"
   ]
  },
  {
   "cell_type": "code",
   "execution_count": null,
   "metadata": {
    "collapsed": true
   },
   "outputs": [],
   "source": [
    "# Please type your code here:\n"
   ]
  },
  {
   "cell_type": "markdown",
   "metadata": {},
   "source": [
    "### Combining string\n",
    "\n",
    "Strings can be combined using the plus operator. We know what one plus one is and so does python. 1 + 1 equals two. Well the plusoperator also can work for string. Try this below:\n",
    "\n",
    "    print(\"Hello\" + \"World!\")\n",
    "\n",
    "What is the result? Is there anythign wrong with it? If so, how do you fix it?"
   ]
  },
  {
   "cell_type": "code",
   "execution_count": null,
   "metadata": {
    "collapsed": true
   },
   "outputs": [],
   "source": [
    "# Please type your code here:\n"
   ]
  },
  {
   "cell_type": "markdown",
   "metadata": {},
   "source": [
    "### Variables for strings\n",
    "\n",
    "Thus far we have been working directly with string or text. We can create a variable to store the text that we want.\n",
    "\n",
    "    message = \"Hello world!\"\n",
    "    \n",
    "We can then use that variable in our print statement:\n",
    "\n",
    "    print(message)\n",
    "    \n",
    "What happens when you run the statement above?"
   ]
  },
  {
   "cell_type": "code",
   "execution_count": null,
   "metadata": {
    "collapsed": true
   },
   "outputs": [],
   "source": [
    "# Please type your code here:\n"
   ]
  },
  {
   "cell_type": "markdown",
   "metadata": {},
   "source": [
    "### Variables as objects\n",
    "\n",
    "In the cell above, the word \"message\" is a variable. It holds the string \"Hello world!\". From the python perspective, every variable is an object. In fact, everything in python is an object. What is an __object__? An object is a template or a cookie cutter that has certain characteristics, like strings, integers and floating point numbers. String objects have proprties and methods or built-in functions. We will look at a number of methods below.\n",
    "\n",
    "\n",
    "    variable_name_1 = \"A value\"\n",
    "    varaible_name_2 = 10\n",
    "\n",
    "Check and see what type of obect something is by using the built-in function \"type\":\n",
    "\n",
    "    type(message)"
   ]
  },
  {
   "cell_type": "code",
   "execution_count": null,
   "metadata": {
    "collapsed": true
   },
   "outputs": [],
   "source": [
    "# Please type your code here:\n"
   ]
  },
  {
   "cell_type": "markdown",
   "metadata": {},
   "source": [
    "---\n",
    "## Utilizing the python _str_ (string) methods\n",
    "\n",
    "To see all available methods (functions) please look at the [Python Standard Library Documentation String Methods](https://docs.python.org/3/library/stdtypes.html#string-methods)\n",
    "\n",
    "---"
   ]
  },
  {
   "cell_type": "markdown",
   "metadata": {},
   "source": [
    "## Methods available to all objects:"
   ]
  },
  {
   "cell_type": "markdown",
   "metadata": {},
   "source": [
    "### _in_\n",
    "\n",
    "To check to see if a nucleotide (i.e. a character) is in our DNA sequence use the __in__ operator. \n",
    "\n",
    "    'a' in new_dna\t  # Returns True\n",
    "    'atg' in new_dna\t# Returns True\n",
    "    'aaa' in new_dna\t# Returns False\n",
    "\n",
    "More generically, to check to see if a python object (character, string, number, etc) is in another python object (string, list, etc):\n",
    "\n",
    "    x in s\t# Return True if an item of s is equal to x, else False\n",
    "\n",
    "\n",
    "                x not in s\tFalse if an item of s is equal to x, else True\n",
    "                    s + t\tthe concatenation of s and t\n",
    "            s * n or n * s\tequivalent to adding s to itself n times"
   ]
  },
  {
   "cell_type": "code",
   "execution_count": null,
   "metadata": {
    "collapsed": true
   },
   "outputs": [],
   "source": [
    "# Please type your code here:\n"
   ]
  },
  {
   "cell_type": "markdown",
   "metadata": {},
   "source": [
    "### _slice [ i : j : k ]_\n",
    "\n",
    "To _slice_ a character or subsequence out of a sequence, use square brackets (\"[\", \"]\").\n",
    "\n",
    "    new_dna[0]\n",
    "    \n",
    "    new_dna[0:3]\n",
    "    \n",
    "__NOTE__: The first number is INCLUSIVE (included), while the second number is EXCLUSIVE (not included).\n",
    "    \n",
    "    Generically - s[i]    ith item of s, origin 0\n",
    "\n",
    "    s[i:j]\tslice of s from i to j\n",
    "    \n",
    "    s[i:j:k]\tslice of s from i to j with step k\n",
    "    "
   ]
  },
  {
   "cell_type": "code",
   "execution_count": null,
   "metadata": {
    "collapsed": true
   },
   "outputs": [],
   "source": [
    "# Please type your code here:\n",
    "\n"
   ]
  },
  {
   "cell_type": "markdown",
   "metadata": {},
   "source": [
    "### _len_\n",
    "\n",
    "To get teh length or total count of the residues in our sequence use the _len_ function:\n",
    "\n",
    "    len(new_dna)\tlength of new_dna"
   ]
  },
  {
   "cell_type": "code",
   "execution_count": null,
   "metadata": {
    "collapsed": true
   },
   "outputs": [],
   "source": [
    "# Please type your code here:\n",
    "\n"
   ]
  },
  {
   "cell_type": "markdown",
   "metadata": {},
   "source": [
    "### _count_\n",
    "\n",
    "To count the number of times teh nucleotide \"A\" occurs in our string we use the _count_ function:\n",
    "\n",
    "    new_dna.count('A')\ttotal number of occurrences of x in s"
   ]
  },
  {
   "cell_type": "code",
   "execution_count": null,
   "metadata": {
    "collapsed": true
   },
   "outputs": [],
   "source": [
    "# Please type your code here:\n",
    "\n"
   ]
  },
  {
   "cell_type": "markdown",
   "metadata": {},
   "source": [
    "### String methods (that are particularily important in bioinformatics)\n",
    "\n",
    "To see what methods or properties (object variables) are availablel, type the name of an object, usually a variable name, type a period \".\" afterwards anf hit the tab key. __IF__ he variable has already been defined you will see what methods and properies are availabble.\n",
    "\n",
    "    message.<hit tab>"
   ]
  },
  {
   "cell_type": "markdown",
   "metadata": {},
   "source": [
    "### Concatination\n",
    "\n",
    "Like the plus sing (+) concatination joins string together. The concatanation symbol __+__ will join two string into a single string. Lets say you would like to add two DNA sequences together. You would do the following:\n",
    "\n",
    "    dna1 = \"atgaattgg\"\n",
    "    dna2 = \"ttaaggtag\"\n",
    "    new_dna = dna1 & dna2"
   ]
  },
  {
   "cell_type": "code",
   "execution_count": null,
   "metadata": {
    "collapsed": false
   },
   "outputs": [],
   "source": [
    "# Please type your code here:\n"
   ]
  },
  {
   "cell_type": "markdown",
   "metadata": {},
   "source": [
    "### Changing case\n",
    "\n",
    "We can also change the case of a string using the built in method __name__. Lets see how:\n",
    "\n",
    "For uppercase, use the _upper()_ method. In the documentation (above link) we see it listed as: str.__upper__()\n",
    "\n",
    "    new_dna.upper()\n",
    "    \n",
    "For lowercase, use the _lower()_ method.\n",
    "\n",
    "    new_dna.lower()"
   ]
  },
  {
   "cell_type": "code",
   "execution_count": null,
   "metadata": {
    "collapsed": false
   },
   "outputs": [],
   "source": [
    "# Please type your code here:\n"
   ]
  },
  {
   "cell_type": "markdown",
   "metadata": {},
   "source": [
    "### Substring\n",
    "\n",
    "One can extract a substring from a sequence as well using a built-in method. As we mentioned above, a string is a sequence or collection of characters (Unicode characters). \n",
    "\n",
    "We use square brackets \"[\" and \"]\" to extract a subsequence. \n",
    "\n"
   ]
  },
  {
   "cell_type": "code",
   "execution_count": null,
   "metadata": {
    "collapsed": true
   },
   "outputs": [],
   "source": [
    "# Please type your code here:\n"
   ]
  },
  {
   "cell_type": "markdown",
   "metadata": {},
   "source": [
    "### Find\n",
    "\n",
    "In addition to pull out a subsequence, we can find if a subsequence exista in a sequence. \n",
    "\n",
    "\n",
    "    str.find(sub[, start[, end]])\n",
    "    Return the lowest index in the string where substring sub is found within the slice s[start:end]. \n",
    "    Optional arguments start and end are interpreted as in slice notation. Return -1 if sub is not found.\n",
    "\n",
    "    Note The find() method should be used only if you need to know the position of sub. To check if sub is a \n",
    "    substring or not, use the __in__ operator:\n",
    "\n",
    "    'Py' in 'Python'\n",
    "    \n",
    "Find the position of the codon for methionine:\n",
    "\n",
    "    new_dna.find(\"atg\")\n",
    "    \n",
    "Find the position of the stop codon:\n",
    "\n",
    "    new_dna.find(\"tag\")"
   ]
  },
  {
   "cell_type": "code",
   "execution_count": null,
   "metadata": {
    "collapsed": true
   },
   "outputs": [],
   "source": [
    "# Please type your code here:\n"
   ]
  },
  {
   "cell_type": "markdown",
   "metadata": {},
   "source": [
    "### Reversing\n",
    "\n",
    "We can make use of a trick of the slicing capability to reverse a string. Use a -1 in the final position as step to reverse.\n",
    "\n",
    "    new_dna[::-1]"
   ]
  },
  {
   "cell_type": "code",
   "execution_count": null,
   "metadata": {
    "collapsed": true
   },
   "outputs": [],
   "source": [
    "# Please type your code here:\n",
    "\n"
   ]
  }
 ],
 "metadata": {
  "anaconda-cloud": {},
  "kernelspec": {
   "display_name": "Python [Root]",
   "language": "python",
   "name": "Python [Root]"
  },
  "language_info": {
   "codemirror_mode": {
    "name": "ipython",
    "version": 3
   },
   "file_extension": ".py",
   "mimetype": "text/x-python",
   "name": "python",
   "nbconvert_exporter": "python",
   "pygments_lexer": "ipython3",
   "version": "3.5.2"
  }
 },
 "nbformat": 4,
 "nbformat_minor": 0
}
